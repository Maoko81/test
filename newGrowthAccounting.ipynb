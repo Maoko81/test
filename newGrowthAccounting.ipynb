{
  "cells": [
    {
      "cell_type": "markdown",
      "metadata": {
        "id": "view-in-github",
        "colab_type": "text"
      },
      "source": [
        "<a href=\"https://colab.research.google.com/github/Maoko81/test/blob/main/newGrowthAccounting.ipynb\" target=\"_parent\"><img src=\"https://colab.research.google.com/assets/colab-badge.svg\" alt=\"Open In Colab\"/></a>"
      ]
    },
    {
      "cell_type": "code",
      "execution_count": 4,
      "metadata": {
        "colab": {
          "base_uri": "https://localhost:8080/"
        },
        "id": "EjhfD-rszB3I",
        "outputId": "f315b154-977b-48dd-89ba-38dc07f029c7"
      },
      "outputs": [
        {
          "output_type": "stream",
          "name": "stdout",
          "text": [
            "                    g       tfp         k         a  tfp.growth  \\\n",
            "countrycode                                                       \n",
            "CAN          0.887700  0.253687  1.835712  0.346190    0.253687   \n",
            "DEU          0.661055  0.223337  1.198290  0.370730    0.223337   \n",
            "FRA          0.829236  0.260418  1.491602  0.381194    0.260418   \n",
            "GBR          1.015544  0.442543  1.379846  0.412993    0.442543   \n",
            "ITA         -0.037181 -0.571016  1.103655  0.484835   -0.571016   \n",
            "JPN          0.710956  0.079903  1.506205  0.430601    0.079903   \n",
            "USA          1.536985  0.756660  2.014710  0.393260    0.756660   \n",
            "\n",
            "             capitakl deepning  tfp.share  capital.share  growth rate  \n",
            "countrycode                                                            \n",
            "CAN                   0.635505   0.285780       0.346190     0.887700  \n",
            "DEU                   0.444242   0.337849       0.370730     0.661055  \n",
            "FRA                   0.568590   0.314046       0.381194     0.829236  \n",
            "GBR                   0.569867   0.435770       0.412993     1.015544  \n",
            "ITA                   0.535090  15.357584       0.484835    -0.037181  \n",
            "JPN                   0.648574   0.112389       0.430601     0.710956  \n",
            "USA                   0.792306   0.492302       0.393260     1.536985  \n"
          ]
        }
      ],
      "source": [
        "import pandas as pd\n",
        "import numpy as np\n",
        "\n",
        "\n",
        "# Load data\n",
        "pwt101 = pd.read_stata('https://dataverse.nl/api/access/datafile/354098')\n",
        "\n",
        "# Filter and select relevant columns\n",
        "data = pwt101.loc[pwt101['country'].isin([\"France\", \"Germany\", \"Canada\", \"Italy\", \"Japan\", \"United Kingdom\", \"United States\"])][['year', 'countrycode', 'rgdpna', 'rkna', 'pop', 'emp', 'avh', 'labsh', 'rtfpna']]\n",
        "data = data.loc[(data['year'] >= 1995) & (data['year'] <= 2019)].dropna()\n",
        "\n",
        "# Calculate additional columns\n",
        "data['y_pc'] = np.log(data['rgdpna'] / data['emp'])  # GDP per worker\n",
        "data['k_pc'] = np.log(data['rkna'] / data['emp'])  # Capital per worker\n",
        "data['a'] = 1 - data['labsh']  \n",
        "\n",
        "# Order by year\n",
        "data = data.sort_values('year')\n",
        "\n",
        "# Group by countrycode\n",
        "grouped_data = data.groupby('countrycode')\n",
        "\n",
        "# Calculate growth rates and Solow residual\n",
        "data['g'] = (grouped_data['y_pc'].diff() * 100)  \n",
        "data['k'] = (grouped_data['k_pc'].diff() * 100)  \n",
        "data['tfp'] = data['g'] - data['a'] * data['k']  \n",
        "\n",
        "# Remove missing values\n",
        "data = data.dropna()\n",
        "\n",
        "# Calculate summary statistics\n",
        "summary = data.groupby('countrycode').agg({'g': 'mean',\n",
        "                                            'tfp': 'mean',\n",
        "                                               'k': \"mean\",\n",
        "                                               'a': \"mean\"})\n",
        "\n",
        "# Calculate additional summary statistics\n",
        "summary['tfp.growth'] = summary['tfp']\n",
        "summary['capitakl deepning'] = summary['a']*summary['k']\n",
        "summary['tfp.share'] = summary['tfp'] / summary['g']\n",
        "summary['capital.share'] = summary['a']\n",
        "summary['growth rate'] = summary['g']\n",
        "\n",
        "# Print output\n",
        "print(summary)"
      ]
    }
  ],
  "metadata": {
    "colab": {
      "provenance": [],
      "include_colab_link": true
    },
    "kernelspec": {
      "display_name": "Python 3",
      "name": "python3"
    },
    "language_info": {
      "name": "python"
    }
  },
  "nbformat": 4,
  "nbformat_minor": 0
}