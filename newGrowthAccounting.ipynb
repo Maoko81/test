{
  "cells": [
    {
      "cell_type": "markdown",
      "metadata": {
        "id": "view-in-github",
        "colab_type": "text"
      },
      "source": [
        "<a href=\"https://colab.research.google.com/github/Maoko81/test/blob/main/newGrowthAccounting.ipynb\" target=\"_parent\"><img src=\"https://colab.research.google.com/assets/colab-badge.svg\" alt=\"Open In Colab\"/></a>"
      ]
    },
    {
      "cell_type": "code",
      "execution_count": 1,
      "metadata": {
        "colab": {
          "base_uri": "https://localhost:8080/"
        },
        "id": "EjhfD-rszB3I",
        "outputId": "30c10825-0b75-49aa-8619-075293c925bd"
      },
      "outputs": [
        {
          "output_type": "stream",
          "name": "stdout",
          "text": [
            "                    g         a  Growth Rate  Capital Share\n",
            "countrycode                                                \n",
            "CAN          0.744709  0.384357     0.744709       0.384357\n",
            "DEU          0.689737  0.374882     0.689737       0.374882\n",
            "FRA          0.818749  0.378999     0.818749       0.378999\n",
            "GBR          1.104174  0.379763     1.104174       0.379763\n",
            "ITA          0.043478  0.470794     0.043478       0.470794\n",
            "JPN          0.909459  0.379888     0.909459       0.379888\n",
            "USA          1.589208  0.383534     1.589208       0.383534\n"
          ]
        }
      ],
      "source": [
        "import pandas as pd\n",
        "import matplotlib.pyplot as plt\n",
        "import numpy as np\n",
        "\n",
        "\n",
        "# Load data\n",
        "pwt101 = pd.read_stata('https://dataverse.nl/api/access/datafile/354098')\n",
        "\n",
        "# Filter and select relevant columns\n",
        "data = pwt101.loc[pwt101['country'].isin([\"France\", \"Germany\", \"Canada\", \"Italy\", \"Japan\", \"United Kingdom\", \"United States\"])][['year', 'countrycode', 'rgdpna', 'rkna', 'pop', 'emp', 'avh', 'labsh', 'rtfpna']]\n",
        "data = data.loc[(data['year'] >= 1995) & (data['year'] <= 2019)].dropna()\n",
        "\n",
        "# Calculate additional columns\n",
        "data['y_pc'] = np.log(data['rgdpna'] / data['emp'])  # GDP per worker\n",
        "data['k_pc'] = np.log(data['rkna'] / data['emp'])  # Capital per worker\n",
        "data['a'] = 1 - data['labsh']  # Capital share\n",
        "\n",
        "# Calculate additional variables\n",
        "data['alpha'] = 1 - data['labsh']\n",
        "data['y_n'] = data['rgdpna'] / data['emp']  # Y/N\n",
        "data['hours'] = data['emp'] * data['avh']  # L\n",
        "data['tfp_term'] = data['rtfpna'] ** (1 / (1 - data['alpha']))  # A^(1/(1-alpha))\n",
        "data['cap_term'] = (data['rkna'] / data['rgdpna']) ** (data['alpha'] / (1 - data['alpha']))  # (K/Y)^(alpha/(1-alpha))\n",
        "data['lab_term'] = data['hours'] / data['pop']  # L/N\n",
        "data = data.sort_values('year').groupby('countrycode').apply(lambda x: x.assign(\n",
        "    alpha=1 - x['labsh'],\n",
        "    y_n_shifted=100 * x['y_n'] / x['y_n'].iloc[0],\n",
        "    tfp_term_shifted=100 * x['tfp_term'] / x['tfp_term'].iloc[0],\n",
        "    cap_term_shifted=100 * x['cap_term'] / x['cap_term'].iloc[0],\n",
        "    lab_term_shifted=100 * x['lab_term'] / x['lab_term'].iloc[0]\n",
        ")).reset_index(drop=True).dropna()\n",
        "\n",
        "# Order by year\n",
        "data = data.sort_values('year')\n",
        "\n",
        "# Group by isocode\n",
        "grouped_data = data.groupby('countrycode')\n",
        "\n",
        "# Calculate growth rates and Solow residual\n",
        "data['g'] = (grouped_data['y_pc'].diff() * 100)  # Growth rate of GDP per capita\n",
        "\n",
        "# Remove missing values\n",
        "data = data.dropna()\n",
        "\n",
        "# Calculate summary statistics\n",
        "summary = data.groupby('countrycode').agg({'g': 'mean',\n",
        "                                       'a': \"mean\"})\n",
        "\n",
        "# Calculate additional summary statistics\n",
        "summary['Growth Rate'] = summary['g']\n",
        "summary['Capital Share'] = summary['a']\n",
        "\n",
        "# Print output\n",
        "print(summary)"
      ]
    }
  ],
  "metadata": {
    "colab": {
      "provenance": [],
      "include_colab_link": true
    },
    "kernelspec": {
      "display_name": "Python 3",
      "name": "python3"
    },
    "language_info": {
      "name": "python"
    }
  },
  "nbformat": 4,
  "nbformat_minor": 0
}