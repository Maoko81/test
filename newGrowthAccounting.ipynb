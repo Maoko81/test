{
  "cells": [
    {
      "cell_type": "markdown",
      "metadata": {
        "id": "view-in-github",
        "colab_type": "text"
      },
      "source": [
        "<a href=\"https://colab.research.google.com/github/Maoko81/test/blob/main/newGrowthAccounting.ipynb\" target=\"_parent\"><img src=\"https://colab.research.google.com/assets/colab-badge.svg\" alt=\"Open In Colab\"/></a>"
      ]
    },
    {
      "cell_type": "code",
      "execution_count": 16,
      "metadata": {
        "colab": {
          "base_uri": "https://localhost:8080/"
        },
        "id": "EjhfD-rszB3I",
        "outputId": "ea3f8d73-0936-4f9c-aaea-a9fedefe6906"
      },
      "outputs": [
        {
          "output_type": "stream",
          "name": "stdout",
          "text": [
            "                Growth Rate  TFP Growth  Capital Deepning  TFP Share  \\\n",
            "France             0.825846    0.256336          0.568151   0.310392   \n",
            "Germany            0.645232    0.208366          0.442824   0.322932   \n",
            "Canada             0.882518    0.248086          0.634322   0.281112   \n",
            "Italy             -0.046486   -0.580573          0.532505  12.489293   \n",
            "Japan              0.696862    0.066614          0.642975   0.095592   \n",
            "United Kingdom     1.007664    0.434899          0.568622   0.431592   \n",
            "United States      1.533139    0.753272          0.789478   0.491326   \n",
            "Average            0.792111    0.198143          0.596983   2.060320   \n",
            "\n",
            "                Capital Share  \n",
            "France               0.687962  \n",
            "Germany              0.686302  \n",
            "Canada               0.718764  \n",
            "Italy              -11.455251  \n",
            "Japan                0.922673  \n",
            "United Kingdom       0.564297  \n",
            "United States        0.514942  \n",
            "Average             -1.051473  \n"
          ]
        }
      ],
      "source": [
        "import pandas as pd\n",
        "import numpy as np\n",
        "from scipy.stats.mstats import gmean\n",
        "\n",
        "# Load data\n",
        "pwt101 = pd.read_stata('https://dataverse.nl/api/access/datafile/354098')\n",
        "\n",
        "# Filter and select relevant columns\n",
        "data = pwt101.loc[pwt101['country'].isin([\"France\", \"Germany\", \"Canada\", \"Italy\", \"Japan\", \"United Kingdom\", \"United States\"])][['year', 'countrycode', 'rgdpna', 'rkna', 'pop', 'emp', 'avh', 'labsh']]\n",
        "data = data.loc[(data['year'] >= 1995) & (data['year'] <= 2019)].dropna()\n",
        "\n",
        "# Calculate additional columns\n",
        "data['y_pc'] = np.log(data['rgdpna'] / data['emp'])  # GDP per worker\n",
        "data['k_pc'] = np.log(data['rkna'] / data['emp'])  # Capital per worker\n",
        "data['alpha'] = 1 - data['labsh']  \n",
        "\n",
        "# Order by year\n",
        "data = data.sort_values('year')\n",
        "\n",
        "# Group by countrycode\n",
        "grouped_data = data.groupby('countrycode')\n",
        "\n",
        "# Calculate growth rates and Solow residual\n",
        "data['g'] = (grouped_data['y_pc'].diff() * 100)  \n",
        "data['k'] = (grouped_data['k_pc'].diff() * 100)  \n",
        "data['a'] = data['g']-data['alpha']*data['k']\n",
        "\n",
        "data['g1']=data['g']/100+1\n",
        "data['k1']=data['k']/100+1\n",
        "data['a1']=data['a']/100+1\n",
        "\n",
        "#Remove missing values\n",
        "data = data.dropna()\n",
        "\n",
        "#Calculate geometric mean of growth rates for each country\n",
        "data_fra=data[data['countrycode']==\"FRA\"]\n",
        "g_fra=(gmean(data_fra['g1'])-1)*100\n",
        "k_fra=(gmean(data_fra['k1'])-1)*100\n",
        "a_fra=(gmean(data_fra['a1'])-1)*100\n",
        "cap_fra=k_fra*np.mean(data_fra['alpha'])\n",
        "\n",
        "data_deu=data[data['countrycode']==\"DEU\"]\n",
        "g_deu=(gmean(data_deu['g1'])-1)*100\n",
        "k_deu=(gmean(data_deu['k1'])-1)*100\n",
        "a_deu=(gmean(data_deu['a1'])-1)*100\n",
        "cap_deu=k_deu*np.mean(data_deu['alpha'])\n",
        "\n",
        "data_can=data[data['countrycode']==\"CAN\"]\n",
        "g_can=(gmean(data_can['g1'])-1)*100\n",
        "k_can=(gmean(data_can['k1'])-1)*100\n",
        "a_can=(gmean(data_can['a1'])-1)*100\n",
        "cap_can=k_can*np.mean(data_can['alpha'])\n",
        "\n",
        "data_ita=data[data['countrycode']==\"ITA\"]\n",
        "g_ita=(gmean(data_ita['g1'])-1)*100\n",
        "k_ita=(gmean(data_ita['k1'])-1)*100\n",
        "a_ita=(gmean(data_ita['a1'])-1)*100\n",
        "cap_ita=k_ita*np.mean(data_ita['alpha'])\n",
        "\n",
        "data_jpn=data[data['countrycode']==\"JPN\"]\n",
        "g_jpn=(gmean(data_jpn['g1'])-1)*100\n",
        "k_jpn=(gmean(data_jpn['k1'])-1)*100\n",
        "a_jpn=(gmean(data_jpn['a1'])-1)*100\n",
        "cap_jpn=k_jpn*np.mean(data_jpn['alpha'])\n",
        "\n",
        "data_gbr=data[data['countrycode']==\"GBR\"]\n",
        "g_gbr=(gmean(data_gbr['g1'])-1)*100\n",
        "k_gbr=(gmean(data_gbr['k1'])-1)*100\n",
        "a_gbr=(gmean(data_gbr['a1'])-1)*100\n",
        "cap_gbr=k_gbr*np.mean(data_gbr['alpha'])\n",
        "\n",
        "data_usa=data[data['countrycode']==\"USA\"]\n",
        "g_usa=(gmean(data_usa['g1'])-1)*100\n",
        "k_usa=(gmean(data_usa['k1'])-1)*100\n",
        "a_usa=(gmean(data_usa['a1'])-1)*100\n",
        "cap_usa=k_usa*np.mean(data_usa['alpha'])\n",
        "\n",
        "index=[\"France\", \"Germany\", \"Canada\", \"Italy\", \"Japan\", \"United Kingdom\", \"United States\"]\n",
        "list1=[g_fra, a_fra, cap_fra]\n",
        "list2=[g_deu, a_deu, cap_deu]\n",
        "list3=[g_can, a_can, cap_can]\n",
        "list4=[g_ita, a_ita, cap_ita]\n",
        "list5=[g_jpn, a_jpn, cap_jpn]\n",
        "list6=[g_gbr, a_gbr, cap_gbr]\n",
        "list7=[g_usa, a_usa, cap_usa]\n",
        "lists=[list1,list2,list3,list4,list5,list6,list7]\n",
        "df1=pd.DataFrame(lists,columns=[\"Growth Rate\",\"TFP Growth\",\"Capital Deepning\"],index=index)\n",
        "df1[\"TFP Share\"]=df1[\"TFP Growth\"]/df1[\"Growth Rate\"]\n",
        "df1[\"Capital Share\"]=df1[\"Capital Deepning\"]/df1[\"Growth Rate\"]\n",
        "df1.loc['Average']=df1.mean()\n",
        "print(df1)"
      ]
    }
  ],
  "metadata": {
    "colab": {
      "provenance": [],
      "include_colab_link": true
    },
    "kernelspec": {
      "display_name": "Python 3",
      "name": "python3"
    },
    "language_info": {
      "name": "python"
    }
  },
  "nbformat": 4,
  "nbformat_minor": 0
}